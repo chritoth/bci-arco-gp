{
 "cells": [
  {
   "cell_type": "markdown",
   "source": [
    "# Example usage of baselines\n",
    "\n",
    "This notebook illustrates the example usage of the Baselines class."
   ],
   "metadata": {
    "collapsed": true,
    "pycharm": {
     "name": "#%% md\n"
    }
   }
  },
  {
   "cell_type": "code",
   "source": [
    "# imports\n",
    "%reload_ext autoreload\n",
    "%autoreload 2\n",
    "\n",
    "from src.environments.generic_environments import *\n",
    "from src.utils.baselines import Baseline\n",
    "from src.utils.causal_orders import *\n"
   ],
   "metadata": {
    "collapsed": false,
    "pycharm": {
     "name": "#%%\n"
    }
   },
   "outputs": [],
   "execution_count": null
  },
  {
   "cell_type": "markdown",
   "source": [
    "First, we generate a ground truth environment/SCM.\n"
   ],
   "metadata": {
    "collapsed": false,
    "pycharm": {
     "name": "#%% md\n"
    }
   }
  },
  {
   "cell_type": "code",
   "source": [
    "# init environment\n",
    "\n",
    "# specify the number of nodes and (optionally) a query of interventional variables\n",
    "env_cfg = EnvironmentConfig()\n",
    "num_nodes = 5\n",
    "env_cfg.num_observational_train_samples = 100\n",
    "env_cfg.linear = False\n",
    "env_cfg.normalise_data = True\n",
    "\n",
    "env = BarabasiAlbert(num_nodes, env_cfg)\n",
    "\n",
    "# plot true graph\n",
    "nx.draw(env.graph, nx.circular_layout(env.graph), labels=dict(zip(env.graph.nodes, env.graph.nodes)))\n"
   ],
   "metadata": {
    "collapsed": false,
    "pycharm": {
     "name": "#%%\n"
    }
   },
   "outputs": [],
   "execution_count": null
  },
  {
   "metadata": {},
   "cell_type": "markdown",
   "source": "Here, we run a baseline for structure learning."
  },
  {
   "cell_type": "code",
   "source": [
    "\n",
    "\n",
    "baseline = Baseline(env, method='grasp')\n",
    "baseline.run()\n",
    "\n",
    "print()\n",
    "print(f\"ESHD {baseline.stats['eshd']} vs. ESHD CPDAG {baseline.stats['eshd_cpdag']}\")\n",
    "print(f\"True Num E {env.graph.number_of_edges()} vs. E-NUM Edges {baseline.stats['enum_edges']}\")\n",
    "print(f\"A-AID {baseline.stats['aaid']}   vs. A-AID cpdag {baseline.stats['aaid_cpdag']}\")\n",
    "print(f\"P-AID {baseline.stats['paid']}   vs. P-AID cpdag {baseline.stats['paid_cpdag']}\")\n",
    "print(f\"OSET-AID {baseline.stats['oset_aid']} vs. OSET-AID cpdag {baseline.stats['oset_aid_cpdag']} \")\n",
    "print()\n",
    "print(f\"F1 {baseline.stats['ef1']}     vs. F1 cpdag {baseline.stats['ef1_cpdag']}\")\n",
    "print(f\"TPR {baseline.stats['etpr']} vs. TPR cpdag {baseline.stats['etpr_cpdag']}\")\n",
    "print(f\"TNR {baseline.stats['etnr']} vs. TNR cpdag {baseline.stats['etnr_cpdag']}\")\n",
    "print(f\"FNR {baseline.stats['efnr']} vs. FNR cpdag {baseline.stats['efnr_cpdag']}\")\n",
    "print(f\"FPR {baseline.stats['efpr']} vs. FPR cpdag {baseline.stats['efpr_cpdag']}\")\n",
    "print(f\"AUROC {baseline.stats['auroc']}  vs. AUROC CPDAG {baseline.stats['auroc_cpdag']}\")\n",
    "print(f\"AUPRC {baseline.stats['auprc']}  vs. AUPRC CPDAG {baseline.stats['auprc_cpdag']}\")\n",
    "print()\n",
    "\n",
    "\n"
   ],
   "metadata": {
    "collapsed": false
   },
   "outputs": [],
   "execution_count": null
  },
  {
   "cell_type": "markdown",
   "source": "Here, we estimate average causal effects with Gadget + (extended) Beeps",
   "metadata": {
    "collapsed": false
   }
  },
  {
   "cell_type": "code",
   "source": [
    "\n",
    "baseline = Baseline(env, method='beeps')\n",
    "baseline.run()\n"
   ],
   "metadata": {
    "collapsed": false
   },
   "outputs": [],
   "execution_count": null
  }
 ],
 "metadata": {
  "kernelspec": {
   "display_name": "Python 3",
   "language": "python",
   "name": "python3"
  },
  "language_info": {
   "codemirror_mode": {
    "name": "ipython",
    "version": 2
   },
   "file_extension": ".py",
   "mimetype": "text/x-python",
   "name": "python",
   "nbconvert_exporter": "python",
   "pygments_lexer": "ipython2",
   "version": "2.7.6"
  }
 },
 "nbformat": 4,
 "nbformat_minor": 0
}
