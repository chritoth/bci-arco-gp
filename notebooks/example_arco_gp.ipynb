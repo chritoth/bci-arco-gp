{
 "cells": [
  {
   "cell_type": "markdown",
   "source": [
    "# Example usage of ArCO-GP\n",
    "\n",
    "This notebook illustrates Bayesian causal inference with ArCO-GP, i.e., using ArCO for approximate causal order inference with limited parent set size\n",
    "and a GP mechanism model.\n"
   ],
   "metadata": {
    "collapsed": true,
    "pycharm": {
     "name": "#%% md\n"
    }
   }
  },
  {
   "cell_type": "code",
   "source": [
    "\n",
    "# imports\n",
    "%reload_ext autoreload\n",
    "%autoreload 2\n",
    "\n",
    "import matplotlib.pyplot as plt\n",
    "from matplotlib.ticker import MaxNLocator\n",
    "\n",
    "from src.abci_arco_gp import ABCIArCOGP as ABCI\n",
    "from src.config import ABCIArCOGPConfig\n",
    "from src.environments.experiment import gather_data\n",
    "from src.environments.generic_environments import *\n",
    "from src.mechanism_models.mechanisms import get_mechanism_key\n"
   ],
   "metadata": {
    "collapsed": false,
    "pycharm": {
     "name": "#%%\n"
    }
   },
   "outputs": [],
   "execution_count": null
  },
  {
   "cell_type": "markdown",
   "source": [
    "First, we generate a ground truth environment/SCM.\n"
   ],
   "metadata": {
    "collapsed": false,
    "pycharm": {
     "name": "#%% md\n"
    }
   }
  },
  {
   "cell_type": "code",
   "source": [
    "# init environment\n",
    "\n",
    "# specify the number of nodes \n",
    "num_nodes = 5\n",
    "env_cfg = EnvironmentConfig()\n",
    "env_cfg.num_observational_train_samples = 30\n",
    "env_cfg.num_observational_test_samples = 20\n",
    "env_cfg.generate_static_intr_dataset = True\n",
    "env_cfg.num_interventional_train_samples = 10\n",
    "env_cfg.num_train_interventions = 5\n",
    "env_cfg.num_interventional_test_samples = 7\n",
    "env_cfg.num_test_interventions = 3\n",
    "env_cfg.normalise_data = True\n",
    "\n",
    "env = BarabasiAlbert(num_nodes, env_cfg)\n",
    "\n",
    "# plot true graph\n",
    "nx.draw(env.graph, nx.circular_layout(env.graph), labels=dict(zip(env.graph.nodes, env.graph.nodes)))\n"
   ],
   "metadata": {
    "collapsed": false,
    "pycharm": {
     "name": "#%%\n"
    }
   },
   "outputs": [],
   "execution_count": null
  },
  {
   "cell_type": "markdown",
   "source": [
    "Here, we create an ABCI instance with the desired experimental design policy."
   ],
   "metadata": {
    "collapsed": false
   }
  },
  {
   "cell_type": "code",
   "source": [
    "\n",
    "cfg = ABCIArCOGPConfig()\n",
    "cfg.policy = 'static-obs-dataset'\n",
    "cfg.max_ps_size = 2\n",
    "cfg.num_arco_steps = 100\n",
    "abci = ABCI(env, cfg)\n"
   ],
   "metadata": {
    "collapsed": false
   },
   "outputs": [],
   "execution_count": null
  },
  {
   "cell_type": "markdown",
   "source": [
    "\n",
    "We can now run a number of ABCI loops."
   ],
   "metadata": {
    "collapsed": false
   }
  },
  {
   "cell_type": "code",
   "source": [
    "\n",
    "abci.run()\n",
    "\n",
    "# plot loss over experiments\n",
    "ax = plt.figure().gca()\n",
    "plt.plot(abci.stats['arco_loss'], label='arco_loss')\n",
    "plt.xlabel('Number of Steps')\n",
    "plt.ylabel('Loss')\n",
    "ax.xaxis.set_major_locator(MaxNLocator(integer=True))\n",
    "plt.legend()"
   ],
   "metadata": {
    "collapsed": false
   },
   "outputs": [],
   "execution_count": null
  },
  {
   "cell_type": "markdown",
   "source": "Print structure learning stats.",
   "metadata": {
    "collapsed": false
   }
  },
  {
   "cell_type": "code",
   "source": [
    "# optionally: recompute the structure learning stats\n",
    "# abci.stats.clear()\n",
    "# abci.compute_stats()\n",
    "\n",
    "print()\n",
    "print(f\"ESHD {abci.stats['eshd']} vs. ESHD CPDAG {abci.stats['eshd_cpdag']}\")\n",
    "print(f\"True Num E {env.graph.number_of_edges()} vs. E-NUM Edges{abci.stats['enum_edges']}\")\n",
    "print(f\"A-AID {abci.stats['aaid']}   vs. A-AID cpdag {abci.stats['aaid_cpdag']}\")\n",
    "print(f\"P-AID {abci.stats['paid']}   vs. P-AID cpdag {abci.stats['paid_cpdag']}\")\n",
    "print(f\"OSET-AID {abci.stats['oset_aid']} vs. OSET-AID cpdag {abci.stats['oset_aid_cpdag']} \")\n",
    "print(f\"ORDER-AID {abci.stats['order_aid']} \")\n",
    "print()\n",
    "print(f\"F1 {abci.stats['ef1']}     vs. F1 cpdag {abci.stats['ef1_cpdag']}\")\n",
    "print(f\"TPR {abci.stats['etpr']} vs. TPR cpdag {abci.stats['etpr_cpdag']}\")\n",
    "print(f\"TNR {abci.stats['etnr']} vs. TNR cpdag {abci.stats['etnr_cpdag']}\")\n",
    "print(f\"FNR {abci.stats['efnr']} vs. FNR cpdag {abci.stats['efnr_cpdag']}\")\n",
    "print(f\"FPR {abci.stats['efpr']} vs. FPR cpdag {abci.stats['efpr_cpdag']}\")\n",
    "print(f\"AUROC {abci.stats['auroc']}  vs. AUROC CPDAG {abci.stats['auroc_cpdag']}\")\n",
    "print(f\"AUPRC {abci.stats['auprc']}  vs. AUPRC CPDAG {abci.stats['auprc_cpdag']}\")\n",
    "print()\n"
   ],
   "metadata": {
    "collapsed": false
   },
   "outputs": [],
   "execution_count": null
  },
  {
   "cell_type": "markdown",
   "source": "Finally, we can have a look at the learned vs. true mechanisms. Here, we compare univariate mechanisms.",
   "metadata": {
    "collapsed": false
   }
  },
  {
   "cell_type": "code",
   "source": [
    "# setup\n",
    "parent = 'X0'\n",
    "target = 'X1'  # target node\n",
    "num_points = 500\n",
    "\n",
    "# compute true mechanism values\n",
    "xdata, ydata = gather_data(abci.experiments, target, parents=[parent])\n",
    "xrange = torch.linspace(xdata.min(), xdata.max(), num_points).unsqueeze(1)\n",
    "ytrue = env.apply_mechanism(xrange, get_mechanism_key(target, [parent])).detach()\n",
    "\n",
    "# compute predicted mechanism values\n",
    "ypred = abci.mechanism_model.apply_mechanism(xrange.expand(-1, env.num_nodes),\n",
    "                                             get_mechanism_key(target, [parent])).detach()\n",
    "\n",
    "plt.figure()\n",
    "plt.plot(xdata, ydata, 'rx', label='Experimental Data')\n",
    "plt.plot(xrange, ytrue, label=f'{parent}->{target} true')\n",
    "plt.plot(xrange, ypred, label=f'{parent}->{target} prediction')\n",
    "plt.xlabel(parent)\n",
    "plt.ylabel(target)\n",
    "plt.legend()\n",
    "plt.tight_layout()\n",
    "\n"
   ],
   "metadata": {
    "collapsed": false,
    "pycharm": {
     "name": "#%%\n"
    }
   },
   "outputs": [],
   "execution_count": null
  },
  {
   "metadata": {},
   "cell_type": "markdown",
   "source": "Here, we compare bi-variate mechanisms.\n"
  },
  {
   "cell_type": "code",
   "source": [
    "# plotting a bivariate mechanism\n",
    "parents = ['X0', 'X2']\n",
    "target = 'X3'\n",
    "num_points = 100\n",
    "\n",
    "# create meshgrid and compute true mechanism values\n",
    "range_min = range_max = 3.\n",
    "xrange = torch.linspace(-range_min, range_max, num_points)\n",
    "yrange = torch.linspace(-range_min, range_max, num_points)\n",
    "xgrid, ygrid = torch.meshgrid(xrange, yrange, indexing='ij')\n",
    "inputs = torch.stack((xgrid, ygrid), dim=2).view(-1, 2)\n",
    "ztrue = env.apply_mechanism(inputs, get_mechanism_key(target, parents)).detach().view(num_points, num_points).numpy()\n",
    "\n",
    "# compute predicted mechanism values\n",
    "tmp = torch.empty(num_points ** 2, env.num_nodes)\n",
    "tmp[:, env.node_labels.index(parents[0])] = inputs[:, 0]\n",
    "tmp[:, env.node_labels.index(parents[1])] = inputs[:, 1]\n",
    "zpred = abci.mechanism_model.apply_mechanism(tmp, get_mechanism_key(target, parents))\n",
    "zpred = zpred.cpu().detach().view(num_points, num_points).numpy()\n",
    "\n",
    "zmin = min(ztrue.min().item(), zpred.min().item())\n",
    "zmax = max(ztrue.max().item(), zpred.max().item())\n",
    "levels = torch.linspace(zmin, zmax, 100).cpu().numpy()\n",
    "print(f'Function values for {target} in range [{zmin, zmax}].')\n",
    "\n",
    "# plot mechanisms\n",
    "fig, axes = plt.subplots(1, 2, sharex=True, sharey=True)\n",
    "cp1 = axes[0].contourf(xgrid.cpu(), ygrid.cpu(), ztrue, cmap=plt.get_cmap('jet'), levels=levels, vmin=zmin, vmax=zmax,\n",
    "                       antialiased=False)\n",
    "cp2 = axes[1].contourf(xgrid.cpu(), ygrid.cpu(), zpred, cmap=plt.get_cmap('jet'), levels=levels, vmin=zmin, vmax=zmax,\n",
    "                       antialiased=False)\n",
    "\n",
    "sample_inputs, sample_targets = gather_data(abci.experiments, target, parents=parents)\n",
    "\n",
    "axes[0].plot(sample_inputs[:, 0].cpu(), sample_inputs[:, 1].cpu(), 'kx')\n",
    "axes[1].plot(sample_inputs[:, 0].cpu(), sample_inputs[:, 1].cpu(), 'kx')\n",
    "axes[0].set_xlabel(parents[0])\n",
    "axes[0].set_ylabel(parents[1])\n",
    "ax.set_xlim([-range_min, range_max])\n",
    "ax.set_ylim([-range_min, range_max])\n",
    "axes[1].set_xlabel(parents[0])\n",
    "_ = fig.colorbar(cp2)\n"
   ],
   "metadata": {
    "collapsed": false,
    "pycharm": {
     "name": "#%%\n"
    }
   },
   "outputs": [],
   "execution_count": null
  }
 ],
 "metadata": {
  "kernelspec": {
   "display_name": "Python 3",
   "language": "python",
   "name": "python3"
  },
  "language_info": {
   "codemirror_mode": {
    "name": "ipython",
    "version": 2
   },
   "file_extension": ".py",
   "mimetype": "text/x-python",
   "name": "python",
   "nbconvert_exporter": "python",
   "pygments_lexer": "ipython2",
   "version": "2.7.6"
  }
 },
 "nbformat": 4,
 "nbformat_minor": 0
}
