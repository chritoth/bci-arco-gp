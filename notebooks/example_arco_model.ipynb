{
 "cells": [
  {
   "cell_type": "markdown",
   "metadata": {},
   "source": [
    "# ArCO Model Example Notebook\n",
    "\n",
    "This notebook illustrates the usage of the ArCO model - an auto-regressive generative model for causal orders."
   ]
  },
  {
   "cell_type": "code",
   "metadata": {
    "pycharm": {
     "name": "#%%\n"
    }
   },
   "source": [
    "# imports\n",
    "%reload_ext autoreload\n",
    "%autoreload 2\n",
    "\n",
    "import random\n",
    "import matplotlib.pyplot as plt\n",
    "import torch\n",
    "\n",
    "from src.config import ArCOConfig\n",
    "from src.graph_models.arco import ArCO\n",
    "from src.utils.causal_orders import CausalOrder, generate_all_permutations\n",
    "from src.utils.plotting import init_plot_style\n",
    "\n",
    "init_plot_style()"
   ],
   "outputs": [],
   "execution_count": null
  },
  {
   "cell_type": "markdown",
   "source": "Sanity check: total probability of all causal orders for a given number of nodes must sum to 1",
   "metadata": {
    "collapsed": false
   }
  },
  {
   "cell_type": "code",
   "source": [
    "num_nodes = 3\n",
    "node_labels = [f'X{i}' for i in range(num_nodes)]\n",
    "\n",
    "# init causal order model\n",
    "cfg = ArCOConfig()\n",
    "cfg.map_mode = 'simple' # available are 'simple' and 'mlp'\n",
    "model = ArCO(node_labels, cfg)\n",
    "cos = generate_all_permutations(node_labels)\n",
    "print(f'Number of causal orders with {num_nodes} nodes is {len(cos)}')\n",
    "\n",
    "probs = model.log_prob(cos).exp()\n",
    "print(f'\\nTotal prob: {probs.sum()}')\n",
    "\n",
    "for cidx, co in enumerate(cos):\n",
    "    print(f'p(<{co}>) = {probs[cidx].item()}')"
   ],
   "metadata": {
    "collapsed": false,
    "pycharm": {
     "name": "#%%\n"
    }
   },
   "outputs": [],
   "execution_count": null
  },
  {
   "cell_type": "markdown",
   "source": [
    "### We will now train and ArCO model to fit a given set of causal orders.\n",
    "\n",
    "First, we initialise the ArCO model."
   ],
   "metadata": {
    "collapsed": false,
    "pycharm": {
     "name": "#%% md\n"
    }
   }
  },
  {
   "cell_type": "code",
   "metadata": {
    "pycharm": {
     "name": "#%%\n"
    }
   },
   "source": [
    "num_nodes = 5\n",
    "node_labels = [f'X{i}' for i in range(num_nodes)]\n",
    "cfg = ArCOConfig()\n",
    "cfg.map_mode = 'simple'\n",
    "model = ArCO(node_labels, cfg)\n",
    "\n",
    "# sample cos from model\n",
    "cos, _ = model.sample(5)\n",
    "print(f'Sampled causal orders from prior model:')\n",
    "probs = model.log_prob(cos).exp()\n",
    "for idx, co in enumerate(cos):\n",
    "    print(f'p(<{co}>) = {probs[idx].item()}')"
   ],
   "outputs": [],
   "execution_count": null
  },
  {
   "cell_type": "markdown",
   "source": "Option 1: Generate target orders as a pair of chain and reverse chain. The simple model will fail to fit these two orders with equal probability.",
   "metadata": {
    "collapsed": false
   }
  },
  {
   "cell_type": "code",
   "source": [
    "\n",
    "# 1) chain\n",
    "co1 = CausalOrder([{f'X{i}'} for i in range(num_nodes)])\n",
    "# 2) reverse chain\n",
    "co2 = CausalOrder([{f'X{i}'} for i in range(num_nodes - 1, -1, -1)])\n",
    "\n",
    "cos = [co1, co2]"
   ],
   "metadata": {
    "collapsed": false
   },
   "outputs": [],
   "execution_count": null
  },
  {
   "cell_type": "markdown",
   "source": "Option 2: Generate random permutations as target orders.",
   "metadata": {
    "collapsed": false
   }
  },
  {
   "cell_type": "code",
   "source": [
    "def permutation_key(layers):\n",
    "    return '|'.join([list(layer)[0] for layer in layers])\n",
    "\n",
    "\n",
    "num_permutations = 1\n",
    "layers = [{f'X{i}'} for i in range(num_nodes)]\n",
    "\n",
    "cos = []\n",
    "unique_cos = set()\n",
    "pidx = 0\n",
    "while pidx < num_permutations:\n",
    "    random.shuffle(layers)\n",
    "    key = permutation_key(layers)\n",
    "    if key not in unique_cos:\n",
    "        pidx += 1\n",
    "        unique_cos.update([key])\n",
    "        cos.append(CausalOrder(layers.copy()))\n",
    "\n"
   ],
   "metadata": {
    "collapsed": false
   },
   "outputs": [],
   "execution_count": null
  },
  {
   "cell_type": "markdown",
   "source": "We can now train CO model to uniform distribution over a set of target orders.",
   "metadata": {
    "collapsed": false
   }
  },
  {
   "cell_type": "code",
   "source": [
    "\n",
    "optimizer = torch.optim.Adam(model.parameters(), lr=1e-1)\n",
    "losses = []\n",
    "for _ in range(50):\n",
    "    optimizer.zero_grad()\n",
    "    ll = model.log_prob(cos).sum()\n",
    "    loss = -ll - model.log_param_prior()\n",
    "    loss.backward()\n",
    "    optimizer.step()\n",
    "    losses.append(loss.item())\n",
    "\n",
    "print(f'Loss: {losses[-1]}')\n",
    "probs = model.log_prob(cos).exp()\n",
    "print(f'\\nTotal prob: {probs.sum()}')\n",
    "for idx, co in enumerate(cos):\n",
    "    print(f'p(<{co}>) = {probs[idx]}')\n",
    "\n",
    "sampled_cos, _ = model.sample(10)\n",
    "probs = model.log_prob(sampled_cos).exp()\n",
    "print(f'Samples of the trained model:')\n",
    "for idx, co in enumerate(sampled_cos):\n",
    "    print(f'p(<{co}>) = {probs[idx]}')\n",
    "\n",
    "plt.figure()\n",
    "plt.plot(losses)"
   ],
   "metadata": {
    "collapsed": false,
    "pycharm": {
     "name": "#%%\n"
    }
   },
   "outputs": [],
   "execution_count": null
  },
  {
   "cell_type": "markdown",
   "source": "For 'simple' ArCO only: visualize model parameters (= 1D embedding) of the simple map.",
   "metadata": {
    "collapsed": false,
    "pycharm": {
     "name": "#%% md\n"
    }
   }
  },
  {
   "cell_type": "code",
   "source": [
    "theta = model.logit_map.theta.detach()\n",
    "\n",
    "x = torch.linspace(-model.logit_map.prior.scale - 5., model.logit_map.prior.scale + 5., 1000)\n",
    "_, ax = plt.subplots(figsize=(16, 9))\n",
    "for i in range(num_nodes):\n",
    "    ax.text(theta[i], 0., f'{i}')\n",
    "ax.plot(model.logit_map.theta.detach(), torch.zeros_like(model.logit_map.theta), 'rx')\n",
    "ax.plot(x, model.logit_map.prior.log_prob(x).exp(), label=r'$p(\\theta)$')\n",
    "ax.legend(loc='upper center')\n",
    "_ = plt.xlim([-model.logit_map.prior.scale - 5., model.logit_map.prior.scale + 5.])\n"
   ],
   "metadata": {
    "collapsed": false,
    "pycharm": {
     "name": "#%%\n"
    }
   },
   "outputs": [],
   "execution_count": null
  }
 ],
 "metadata": {
  "kernelspec": {
   "display_name": "Python 3 (ipykernel)",
   "language": "python",
   "name": "python3"
  },
  "language_info": {
   "codemirror_mode": {
    "name": "ipython",
    "version": 3
   },
   "file_extension": ".py",
   "mimetype": "text/x-python",
   "name": "python",
   "nbconvert_exporter": "python",
   "pygments_lexer": "ipython3",
   "version": "3.7.10"
  }
 },
 "nbformat": 4,
 "nbformat_minor": 1
}
