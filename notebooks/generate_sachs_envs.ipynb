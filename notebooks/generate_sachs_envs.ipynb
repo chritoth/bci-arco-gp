{
 "cells": [
  {
   "cell_type": "markdown",
   "metadata": {},
   "source": [
    "# Generate and store Sachs environments.\n",
    "\n",
    "In this notebook we generate instances of the Sachs dataset with different random splits."
   ]
  },
  {
   "cell_type": "code",
   "source": [
    "%load_ext autoreload\n",
    "%autoreload 2\n",
    "import os\n",
    "import shutil\n",
    "from random import randint\n",
    "\n",
    "from src.environments.sachs import Sachs\n"
   ],
   "metadata": {
    "collapsed": false,
    "pycharm": {
     "name": "#%% imports\n"
    }
   },
   "outputs": [],
   "execution_count": null
  },
  {
   "cell_type": "markdown",
   "source": [
    "Generate the environments."
   ],
   "metadata": {
    "collapsed": false,
    "pycharm": {
     "name": "#%% md\n"
    }
   }
  },
  {
   "cell_type": "code",
   "source": [
    "# generation setup\n",
    "data_file = '../data/sachs.csv'\n",
    "normalise_data = True\n",
    "split = (500, 353)  # (num_train_samples, num_test_samples)\n",
    "num_instances = 5\n",
    "\n",
    "delete_existing = False  # delete existing benchmarks\n",
    "env_dir = '../data/Sachs/'  # dir where to store the generated envs\n",
    "\n",
    "env_dir = '../test/'  # dir where to store the generated envs\n",
    "\n",
    "# generate/empty folder for envs of same type\n",
    "num_train_samples = 853 if split is None else split[0]\n",
    "num_test_samples = 0 if split is None else split[1]\n",
    "\n",
    "setup_dir = os.path.join(env_dir, f'{num_train_samples}_train_{num_test_samples}_test/')\n",
    "if os.path.isdir(setup_dir) and not delete_existing:\n",
    "    print('\\nDirectory \\'' + setup_dir + '\\' already exists, not generating environments...')\n",
    "else:\n",
    "    if os.path.isdir(setup_dir):\n",
    "        print('\\nDirectory \\'' + setup_dir + '\\' already exists, delete existing environments...')\n",
    "        for root, dirs, files in os.walk(setup_dir):\n",
    "            for file in files:\n",
    "                os.remove(os.path.join(root, file))\n",
    "            for folder in dirs:\n",
    "                shutil.rmtree(os.path.join(root, folder))\n",
    "\n",
    "    os.makedirs(setup_dir, exist_ok=True)\n",
    "\n",
    "    # generate benchmark envs\n",
    "    for i in range(num_instances):\n",
    "        seed = randint(0, 999999)\n",
    "        env = Sachs(split, normalise_data, data_file, seed)\n",
    "        env_path = os.path.join(setup_dir, f'sachs-{num_train_samples}-{num_test_samples}-{seed:06d}.pth')\n",
    "        env.save(env_path)\n",
    "        env.export_to_csv(setup_dir)\n",
    "        print(f'\\rGenerated {i + 1}/{num_instances} environments.', end='')\n"
   ],
   "metadata": {
    "collapsed": false,
    "pycharm": {
     "name": "#%%\n"
    }
   },
   "outputs": [],
   "execution_count": null
  }
 ],
 "metadata": {
  "kernelspec": {
   "display_name": "Python 3",
   "language": "python",
   "name": "python3"
  },
  "language_info": {
   "codemirror_mode": {
    "name": "ipython",
    "version": 3
   },
   "file_extension": ".py",
   "mimetype": "text/x-python",
   "name": "python",
   "nbconvert_exporter": "python",
   "pygments_lexer": "ipython3",
   "version": "3.6.8"
  }
 },
 "nbformat": 4,
 "nbformat_minor": 1
}
