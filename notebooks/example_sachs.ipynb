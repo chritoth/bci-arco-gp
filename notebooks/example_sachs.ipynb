{
 "cells": [
  {
   "cell_type": "markdown",
   "source": [
    "# Example usage of ARCO-GP on the Sachs dataset.\n",
    "\n",
    "This notebook illustrates the example usage of ARCO-GP on the Sachs dataset."
   ],
   "metadata": {
    "collapsed": true,
    "pycharm": {
     "name": "#%% md\n"
    }
   }
  },
  {
   "cell_type": "code",
   "source": [
    "\n",
    "# imports\n",
    "%reload_ext autoreload\n",
    "%autoreload 2\n",
    "\n",
    "import matplotlib.pyplot as plt\n",
    "import networkx as nx\n",
    "import torch\n",
    "from matplotlib.ticker import MaxNLocator\n",
    "\n",
    "from src.abci_arco_gp import ABCIArCOGP as ABCI\n",
    "from src.config import ABCIArCOGPConfig\n",
    "from src.environments.experiment import gather_data\n",
    "from src.environments.sachs import Sachs\n",
    "from src.mechanism_models.mechanisms import get_mechanism_key"
   ],
   "metadata": {
    "collapsed": false,
    "pycharm": {
     "name": "#%%\n"
    }
   },
   "outputs": [],
   "execution_count": null
  },
  {
   "cell_type": "markdown",
   "source": "Load the sachs dataset.",
   "metadata": {
    "collapsed": false,
    "pycharm": {
     "name": "#%% md\n"
    }
   }
  },
  {
   "cell_type": "code",
   "source": [
    "# init environment\n",
    "env = Sachs(data_file='../data/sachs.csv', normalise=True) # this needs the data provided by Sachs et al. \n",
    "\n",
    "# plot true graph\n",
    "nx.draw(env.graph, nx.circular_layout(env.graph), labels=dict(zip(env.graph.nodes, env.graph.nodes)))\n"
   ],
   "metadata": {
    "collapsed": false,
    "pycharm": {
     "name": "#%%\n"
    }
   },
   "outputs": [],
   "execution_count": null
  },
  {
   "cell_type": "markdown",
   "source": "Next, we create an instance of ARCO-GP with the desired configuration.",
   "metadata": {
    "collapsed": false
   }
  },
  {
   "cell_type": "code",
   "source": [
    "\n",
    "cfg = ABCIArCOGPConfig()\n",
    "cfg.policy = 'static-obs-dataset'\n",
    "cfg.max_ps_size = 2\n",
    "cfg.num_arco_steps = 100\n",
    "abci = ABCI(env, cfg)\n"
   ],
   "metadata": {
    "collapsed": false
   },
   "outputs": [],
   "execution_count": null
  },
  {
   "cell_type": "markdown",
   "source": "We can now run ARCO-GP.",
   "metadata": {
    "collapsed": false
   }
  },
  {
   "cell_type": "code",
   "source": [
    "\n",
    "abci.run()\n",
    "\n",
    "# plot loss over experiments\n",
    "ax = plt.figure().gca()\n",
    "plt.plot(abci.stats['arco_loss'], label='arco_loss')\n",
    "plt.xlabel('Number of Steps')\n",
    "plt.ylabel('Loss')\n",
    "ax.xaxis.set_major_locator(MaxNLocator(integer=True))\n",
    "plt.legend()"
   ],
   "metadata": {
    "collapsed": false
   },
   "outputs": [],
   "execution_count": null
  },
  {
   "cell_type": "markdown",
   "source": "Here we print the structure stats of the learned ARCO-GP model.",
   "metadata": {
    "collapsed": false
   }
  },
  {
   "cell_type": "code",
   "source": [
    "\n",
    "# could compute the edge probabilities like so\n",
    "# abci.cfg.num_mc_graphs = 10\n",
    "# mc_cos, _ = abci.sample_mc_cos(num_cos=500)\n",
    "# edge_probs = abci.compute_posterior_edge_probs(mc_cos)\n",
    "# print(edge_probs)\n",
    "\n",
    "# could re-compute the stats like so\n",
    "# abci.stats.clear()\n",
    "# abci.compute_stats()\n",
    "\n",
    "print()\n",
    "print(f\"ESHD {abci.stats['eshd']} vs. ESHD CPDAG {abci.stats['eshd_cpdag']}\")\n",
    "print(f\"True Num E {env.graph.number_of_edges()} vs. E-NUM Edges{abci.stats['enum_edges']}\")\n",
    "print(f\"A-AID {abci.stats['aaid']}   vs. A-AID cpdag {abci.stats['aaid_cpdag']}\")\n",
    "print(f\"P-AID {abci.stats['paid']}   vs. P-AID cpdag {abci.stats['paid_cpdag']}\")\n",
    "print(f\"OSET-AID {abci.stats['oset_aid']} vs. OSET-AID cpdag {abci.stats['oset_aid_cpdag']} \")\n",
    "print(f\"ORDER-AID {abci.stats['order_aid']} \")\n",
    "print()\n",
    "print(f\"F1 {abci.stats['ef1']}     vs. F1 cpdag {abci.stats['ef1_cpdag']}\")\n",
    "print(f\"TPR {abci.stats['etpr']} vs. TPR cpdag {abci.stats['etpr_cpdag']}\")\n",
    "print(f\"TNR {abci.stats['etnr']} vs. TNR cpdag {abci.stats['etnr_cpdag']}\")\n",
    "print(f\"FNR {abci.stats['efnr']} vs. FNR cpdag {abci.stats['efnr_cpdag']}\")\n",
    "print(f\"FPR {abci.stats['efpr']} vs. FPR cpdag {abci.stats['efpr_cpdag']}\")\n",
    "print(f\"AUROC {abci.stats['auroc']}  vs. AUROC CPDAG {abci.stats['auroc_cpdag']}\")\n",
    "print(f\"AUPRC {abci.stats['auprc']}  vs. AUPRC CPDAG {abci.stats['auprc_cpdag']}\")\n",
    "print()\n"
   ],
   "metadata": {
    "collapsed": false
   },
   "outputs": [],
   "execution_count": null
  },
  {
   "cell_type": "markdown",
   "source": "Finally, we can have a look at the learned mechanisms.",
   "metadata": {
    "collapsed": false
   }
  },
  {
   "cell_type": "code",
   "source": [
    "# setup\n",
    "parent = 'Plcg'  # 'PKC'\n",
    "target = 'PIP3'  # 'PKA'\n",
    "num_points = 500\n",
    "\n",
    "xdata, ydata = gather_data(abci.experiments, target, parents=[parent])\n",
    "\n",
    "# compute predicted mechanism values\n",
    "xrange = torch.linspace(xdata.min(), xdata.max(), num_points).unsqueeze(1)\n",
    "ypred = abci.mechanism_model.apply_mechanism(xrange.expand(-1, env.num_nodes),\n",
    "                                             get_mechanism_key(target, [parent])).detach()\n",
    "\n",
    "plt.figure()\n",
    "plt.plot(xdata, ydata, 'rx', label='Experimental Data')\n",
    "plt.plot(xrange, ypred, label=f'{parent}->{target} prediction')\n",
    "plt.xlabel(parent)\n",
    "plt.ylabel(target)\n",
    "plt.legend()\n",
    "plt.tight_layout()\n",
    "\n"
   ],
   "metadata": {
    "collapsed": false,
    "pycharm": {
     "name": "#%%\n"
    }
   },
   "outputs": [],
   "execution_count": null
  }
 ],
 "metadata": {
  "kernelspec": {
   "display_name": "Python 3",
   "language": "python",
   "name": "python3"
  },
  "language_info": {
   "codemirror_mode": {
    "name": "ipython",
    "version": 2
   },
   "file_extension": ".py",
   "mimetype": "text/x-python",
   "name": "python",
   "nbconvert_exporter": "python",
   "pygments_lexer": "ipython2",
   "version": "2.7.6"
  }
 },
 "nbformat": 4,
 "nbformat_minor": 0
}
