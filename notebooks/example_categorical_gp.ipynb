{
 "cells": [
  {
   "cell_type": "markdown",
   "metadata": {},
   "source": [
    "# Example usage of ABCI-Categorical-GP\n",
    "\n",
    "This notebook illustrates active Bayesian causal inference with a categorical distribution over graphs, i.e., all graphs are exhaustively enumerated, and a GP mechanism model. This setup scales up to systems with around four variables."
   ]
  },
  {
   "cell_type": "code",
   "metadata": {
    "pycharm": {
     "name": "#%%\n"
    }
   },
   "source": [
    "import networkx as nx\n",
    "# imports\n",
    "%reload_ext autoreload\n",
    "%autoreload 2\n",
    "\n",
    "import matplotlib.pyplot as plt\n",
    "from matplotlib.ticker import MaxNLocator\n",
    "\n",
    "from src.abci_categorical_gp import ABCICategoricalGP as ABCI\n",
    "from src.config import ABCICategoricalGPConfig\n",
    "from src.environments.generic_environments import *\n",
    "from src.mechanism_models.gp_model import get_graph_key, gather_data, get_mechanism_key\n",
    "from src.utils.graphs import get_parents\n"
   ],
   "outputs": [],
   "execution_count": null
  },
  {
   "cell_type": "markdown",
   "metadata": {},
   "source": [
    "First, we generate a ground truth environment/SCM."
   ]
  },
  {
   "cell_type": "code",
   "metadata": {
    "pycharm": {
     "name": "#%%\n"
    }
   },
   "source": [
    "# generate the ground truth environment\n",
    "num_nodes = 4\n",
    "env_cfg = EnvironmentConfig()\n",
    "env_cfg.normalise_data = True\n",
    "env = BiDiag(num_nodes, env_cfg)\n",
    "\n",
    "# plot true graph\n",
    "nx.draw(env.graph, nx.planar_layout(env.graph), labels=dict(zip(env.graph.nodes, env.graph.nodes)))\n"
   ],
   "outputs": [],
   "execution_count": null
  },
  {
   "cell_type": "markdown",
   "metadata": {},
   "source": [
    "Next, we can examine the ground truth mechanisms."
   ]
  },
  {
   "cell_type": "code",
   "metadata": {
    "pycharm": {
     "name": "#%%\n"
    }
   },
   "source": [
    "# plotting a univariate mechanism\n",
    "parent = 'X0'\n",
    "target = 'X1'  # target node\n",
    "num_points = 500\n",
    "xrange = torch.linspace(-3., 3., num_points).unsqueeze(1)\n",
    "ytrue = env.apply_mechanism(xrange, get_mechanism_key(target, [parent])).detach()\n",
    "\n",
    "plt.figure()\n",
    "plt.plot(xrange, ytrue)\n",
    "plt.xlabel(parent)\n",
    "plt.ylabel(target)\n",
    "plt.tight_layout()"
   ],
   "outputs": [],
   "execution_count": null
  },
  {
   "cell_type": "code",
   "metadata": {
    "pycharm": {
     "name": "#%%\n"
    }
   },
   "source": [
    "# plotting a bivariate mechanism\n",
    "parents = ['X0', 'X1']\n",
    "node = 'X2'\n",
    "num_points = 100\n",
    "\n",
    "# create meshgrid and compute true mechanism values\n",
    "range_min = range_max = 3.\n",
    "xrange = torch.linspace(-range_min, range_max, num_points)\n",
    "yrange = torch.linspace(-range_min, range_max, num_points)\n",
    "xgrid, ygrid = torch.meshgrid(xrange, yrange, indexing='ij')\n",
    "inputs = torch.stack((xgrid, ygrid), dim=2).view(-1, 2)\n",
    "ztrue = env.apply_mechanism(inputs, get_mechanism_key(node, parents)).detach().view(num_points, num_points).numpy()\n",
    "\n",
    "zmin = ztrue.min().item()\n",
    "zmax = ztrue.max().item()\n",
    "levels = torch.linspace(zmin, zmax, 30).cpu().numpy()\n",
    "print(f'Function values for {node} in range [{zmin, zmax}].')\n",
    "\n",
    "fig, ax = plt.subplots(1, 1)\n",
    "cp1 = ax.contourf(xgrid.cpu(), ygrid.cpu(), ztrue, cmap=plt.get_cmap('jet'), levels=levels, vmin=zmin, vmax=zmax,\n",
    "                  antialiased=False)\n",
    "\n",
    "ax.set_xlabel(parents[0])\n",
    "ax.set_ylabel(parents[1])\n",
    "ax.set_xlim([-range_min, range_max])\n",
    "ax.set_ylim([-range_min, range_max])\n",
    "_ = fig.colorbar(cp1)\n"
   ],
   "outputs": [],
   "execution_count": null
  },
  {
   "metadata": {},
   "cell_type": "code",
   "source": [
    "# plotting a multi-variate mechanism along a fixed dimension\n",
    "target = 'X2'\n",
    "parents = get_parents(target, env.graph)\n",
    "varnode = parents[0]\n",
    "num_points = 100\n",
    "xmin = -1.\n",
    "xmax = 1.\n",
    "\n",
    "fixed_samples = (torch.rand(1, len(parents)) * (xmax - xmin) + xmin).expand(num_points, -1)\n",
    "xrange = torch.linspace(xmin, xmax, num_points).unsqueeze(1)\n",
    "varidx = parents.index(varnode)\n",
    "inputs = torch.cat((fixed_samples[:, :varidx], xrange, fixed_samples[:, varidx + 1:]), dim=-1)\n",
    "ytrue = env.apply_mechanism(inputs, get_mechanism_key(target, parents)).detach()\n",
    "\n",
    "plt.figure()\n",
    "plt.plot(xrange, ytrue)\n",
    "plt.xlabel(varnode)\n",
    "plt.ylabel(target)\n",
    "plt.tight_layout()"
   ],
   "outputs": [],
   "execution_count": null
  },
  {
   "cell_type": "markdown",
   "metadata": {},
   "source": [
    "Here, we create an ABCI instance with the desired experimental design policy."
   ]
  },
  {
   "cell_type": "code",
   "metadata": {
    "pycharm": {
     "name": "#%%\n"
    }
   },
   "source": [
    "cfg = ABCICategoricalGPConfig()\n",
    "cfg.policy = 'random'\n",
    "cfg.num_experiments = 5\n",
    "cfg.batch_size = 3\n",
    "cfg.num_initial_obs_samples = 5\n",
    "abci = ABCI(env, cfg)"
   ],
   "outputs": [],
   "execution_count": null
  },
  {
   "cell_type": "markdown",
   "metadata": {},
   "source": [
    "We can now run a number of ABCI loops."
   ]
  },
  {
   "cell_type": "code",
   "metadata": {
    "pycharm": {
     "name": "#%%\n"
    }
   },
   "source": "abci.run()",
   "outputs": [],
   "execution_count": null
  },
  {
   "cell_type": "markdown",
   "metadata": {},
   "source": "Print the structure learning stats."
  },
  {
   "cell_type": "code",
   "source": [
    "# optionally: recompute the structure learning stats\n",
    "# abci.stats.clear()\n",
    "# abci.compute_stats()\n",
    "\n",
    "edge_probs = abci.graph_posterior.edge_probs()\n",
    "print('Posterior edge probabilities:')\n",
    "print(f'{edge_probs}')\n",
    "print()\n",
    "print(f\"ESHD {abci.stats['eshd']} vs. ESHD CPDAG {abci.stats['eshd_cpdag']}\")\n",
    "print(f\"True Num E {env.graph.number_of_edges()} vs. E-NUM Edges{abci.stats['enum_edges']}\")\n",
    "print(f\"A-AID {abci.stats['aaid']}        \")\n",
    "print(f\"P-AID {abci.stats['paid']}        \")\n",
    "print(f\"OSET-AID {abci.stats['oset_aid']} \")\n",
    "print()\n",
    "print(f\"F1 {abci.stats['ef1']}     vs. F1 cpdag {abci.stats['ef1_cpdag']}\")\n",
    "print(f\"TPR {abci.stats['etpr']} vs. TPR cpdag {abci.stats['etpr_cpdag']}\")\n",
    "print(f\"TNR {abci.stats['etnr']} vs. TNR cpdag {abci.stats['etnr_cpdag']}\")\n",
    "print(f\"FNR {abci.stats['efnr']} vs. FNR cpdag {abci.stats['efnr_cpdag']}\")\n",
    "print(f\"FPR {abci.stats['efpr']} vs. FPR cpdag {abci.stats['efpr_cpdag']}\")\n",
    "print(f\"AUROC {abci.stats['auroc']}  vs. AUROC CPDAG {abci.stats['auroc_cpdag']}\")\n",
    "print(f\"AUPRC {abci.stats['auprc']}  vs. AUPRC CPDAG {abci.stats['auprc_cpdag']}\")\n",
    "print()\n"
   ],
   "metadata": {
    "collapsed": false
   },
   "outputs": [],
   "execution_count": null
  },
  {
   "metadata": {},
   "cell_type": "markdown",
   "source": "Plot some of the recorded metrics over the experiments."
  },
  {
   "cell_type": "code",
   "metadata": {
    "pycharm": {
     "name": "#%%\n"
    }
   },
   "source": [
    "print(f'Number of observational batches: {len([e for e in abci.experiments if e.interventions == {}])}')\n",
    "for node in env.node_labels:\n",
    "    print(\n",
    "        f'Number of interventional batches on {node}: {len([e for e in abci.experiments if node in e.interventions])}')\n",
    "\n",
    "# plot expected SHD over experiments\n",
    "ax = plt.figure().gca()\n",
    "plt.plot(abci.stats['eshd'])\n",
    "plt.xlabel('Number of Experiments')\n",
    "plt.ylabel('Expected SHD')\n",
    "ax.xaxis.set_major_locator(MaxNLocator(integer=True))\n",
    "\n",
    "# plot ancestor aid over experiments\n",
    "ax = plt.figure().gca()\n",
    "plt.plot(abci.stats['aaid'])\n",
    "plt.xlabel('Number of Experiments')\n",
    "plt.ylabel('A-AID')\n",
    "ax.xaxis.set_major_locator(MaxNLocator(integer=True))\n",
    "plt.tight_layout()\n",
    "\n",
    "# plot true graph NLL over experiments\n",
    "ax = plt.figure().gca()\n",
    "plt.plot(-torch.tensor(abci.stats['graph_ll']))\n",
    "plt.xlabel('Number of Experiments')\n",
    "plt.ylabel('True Graph NLL')\n",
    "ax.xaxis.set_major_locator(MaxNLocator(integer=True))\n",
    "\n",
    "# plot graph posterior entropy over experiments\n",
    "ax = plt.figure().gca()\n",
    "plt.plot(abci.stats['graph_entropy'], label='entropy estimate')\n",
    "plt.xlabel('Number of Experiments')\n",
    "plt.ylabel('Entropy of Graph Posterior')\n",
    "ax.xaxis.set_major_locator(MaxNLocator(integer=True))\n",
    "plt.legend()\n",
    "\n",
    "# plot graph posterior\n",
    "graphs = abci.graph_posterior.sort_by_prob()[0:10]\n",
    "probs = [abci.graph_posterior.log_prob(g).exp().detach() for g in graphs]\n",
    "graph_keys = [get_graph_key(g) for g in graphs]\n",
    "\n",
    "plt.figure()\n",
    "plt.xticks(rotation=90)\n",
    "plt.bar(graph_keys, probs)\n",
    "plt.ylabel(r'Graph Posterior, $p(G|D)$')\n",
    "\n",
    "\n",
    "\n"
   ],
   "outputs": [],
   "execution_count": null
  },
  {
   "cell_type": "markdown",
   "metadata": {},
   "source": "Finally, we can have a look at the learned vs. true mechanisms. Here, we compare univariate mechanisms."
  },
  {
   "cell_type": "code",
   "metadata": {
    "pycharm": {
     "name": "#%%\n"
    }
   },
   "source": [
    "# setup\n",
    "parent = 'X0'\n",
    "target = 'X1'  # target node\n",
    "num_points = 500\n",
    "\n",
    "# compute true mechanism values\n",
    "xdata, ydata = gather_data(abci.experiments, target, parents=[parent])\n",
    "xrange = torch.linspace(xdata.min(), xdata.max(), num_points).unsqueeze(1)\n",
    "ytrue = env.apply_mechanism(xrange, get_mechanism_key(target, [parent])).detach()\n",
    "\n",
    "# compute predicted mechanism values\n",
    "mech = abci.mechanism_model.get_mechanism(target, parents=[parent])\n",
    "mech.set_data(xdata, ydata)\n",
    "ypred = mech(xrange).detach()\n",
    "\n",
    "plt.figure()\n",
    "plt.plot(xdata, ydata, 'rx', label='Experimental Data')\n",
    "plt.plot(xrange, ytrue, label=f'{parent}->{target} true')\n",
    "plt.plot(xrange, ypred, label=f'{parent}->{target} prediction')\n",
    "plt.xlabel(parent)\n",
    "plt.ylabel(target)\n",
    "plt.legend()\n",
    "plt.tight_layout()"
   ],
   "outputs": [],
   "execution_count": null
  },
  {
   "metadata": {},
   "cell_type": "markdown",
   "source": "Here, we compare bi-variate mechanisms."
  },
  {
   "cell_type": "code",
   "metadata": {
    "pycharm": {
     "name": "#%%\n"
    }
   },
   "source": [
    "# plotting a bivariate mechanism\n",
    "parents = ['X0', 'X1']\n",
    "target = 'X2'\n",
    "num_points = 100\n",
    "\n",
    "# create meshgrid and compute true mechanism values\n",
    "range_min = range_max = 3.\n",
    "xrange = torch.linspace(-range_min, range_max, num_points)\n",
    "yrange = torch.linspace(-range_min, range_max, num_points)\n",
    "xgrid, ygrid = torch.meshgrid(xrange, yrange, indexing='ij')\n",
    "inputs = torch.stack((xgrid, ygrid), dim=2).view(-1, 2)\n",
    "ztrue = env.apply_mechanism(inputs, get_mechanism_key(target, parents)).detach().view(num_points, num_points).numpy()\n",
    "\n",
    "# compute predicted mechanism values\n",
    "mech = abci.mechanism_model.get_mechanism(target, parents=parents)\n",
    "zpred = mech(inputs).detach().view(num_points, num_points).numpy()\n",
    "\n",
    "zmin = min(ztrue.min().item(), zpred.min().item())\n",
    "zmax = max(ztrue.max().item(), zpred.max().item())\n",
    "levels = torch.linspace(zmin, zmax, 100).cpu().numpy()\n",
    "print(f'Function values for {target} in range [{zmin, zmax}].')\n",
    "\n",
    "# plot mechanisms\n",
    "fig, axes = plt.subplots(1, 2, sharex=True, sharey=True)\n",
    "cp1 = axes[0].contourf(xgrid.cpu(), ygrid.cpu(), ztrue, cmap=plt.get_cmap('jet'), levels=levels, vmin=zmin, vmax=zmax,\n",
    "                       antialiased=False)\n",
    "cp2 = axes[1].contourf(xgrid.cpu(), ygrid.cpu(), zpred, cmap=plt.get_cmap('jet'), levels=levels, vmin=zmin, vmax=zmax,\n",
    "                       antialiased=False)\n",
    "\n",
    "sample_inputs, sample_targets = gather_data(abci.experiments, target, parents=parents)\n",
    "\n",
    "axes[0].plot(sample_inputs[:, 0].cpu(), sample_inputs[:, 1].cpu(), 'kx')\n",
    "axes[1].plot(sample_inputs[:, 0].cpu(), sample_inputs[:, 1].cpu(), 'kx')\n",
    "axes[0].set_xlabel(parents[0])\n",
    "axes[0].set_ylabel(parents[1])\n",
    "ax.set_xlim([-range_min, range_max])\n",
    "ax.set_ylim([-range_min, range_max])\n",
    "axes[1].set_xlabel(parents[0])\n",
    "_ = fig.colorbar(cp2)"
   ],
   "outputs": [],
   "execution_count": null
  }
 ],
 "metadata": {
  "kernelspec": {
   "display_name": "Python 3 (ipykernel)",
   "language": "python",
   "name": "python3"
  },
  "language_info": {
   "codemirror_mode": {
    "name": "ipython",
    "version": 3
   },
   "file_extension": ".py",
   "mimetype": "text/x-python",
   "name": "python",
   "nbconvert_exporter": "python",
   "pygments_lexer": "ipython3",
   "version": "3.7.10"
  }
 },
 "nbformat": 4,
 "nbformat_minor": 1
}
